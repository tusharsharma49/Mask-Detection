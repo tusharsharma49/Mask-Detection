{
 "cells": [
  {
   "cell_type": "code",
   "execution_count": null,
   "metadata": {},
   "outputs": [],
   "source": [
    "import tensorflow as tf \n",
    "classifier = tf.keras.models.load_model('mask_detector.model')"
   ]
  },
  {
   "cell_type": "code",
   "execution_count": null,
   "metadata": {},
   "outputs": [],
   "source": [
    "import os\n",
    "import cv2\n",
    "import numpy as np\n",
    "from os import listdir\n",
    "from os.path import isfile, join"
   ]
  },
  {
   "cell_type": "code",
   "execution_count": null,
   "metadata": {},
   "outputs": [],
   "source": [
    "face_recognition = {\"[1]\": \"without mask\", \n",
    "                    \"[0]\": \"with mask\"}\n",
    "face_recognition_n = {\"n1\": \"without mask\", \n",
    "                      \"n0\": \"with mask\"}"
   ]
  },
  {
   "cell_type": "code",
   "execution_count": null,
   "metadata": {},
   "outputs": [],
   "source": [
    "def draw_test(name, pred, im):\n",
    "    face = face_recognition[str(pred)]\n",
    "    BLACK = [0,0,0]\n",
    "    expanded_image = cv2.copyMakeBorder(im, 80, 0, 0, 100 ,cv2.BORDER_CONSTANT,value=BLACK)\n",
    "    cv2.putText(expanded_image, face, (100,100) , cv2.FONT_HERSHEY_SIMPLEX,1, (0,0,255), 2)\n",
    "    cv2.imshow(name, expanded_image)"
   ]
  },
  {
   "cell_type": "code",
   "execution_count": null,
   "metadata": {},
   "outputs": [],
   "source": [
    "face_model = cv2.CascadeClassifier('haarcascade_frontalface_default.xml')"
   ]
  },
  {
   "cell_type": "code",
   "execution_count": null,
   "metadata": {},
   "outputs": [],
   "source": [
    "cap  = cv2.VideoCapture(0)\n",
    "position = (10,50)\n",
    "\n",
    "while True:\n",
    "    status,input_im = cap.read()\n",
    "    face_cor = face_model.detectMultiScale(input_im)\n",
    "    \n",
    "\n",
    "    if len(eye_cor) == 0:\n",
    "        cv2.putText(input_im,\"No Face Detected\",position, cv2.FONT_HERSHEY_SIMPLEX,1,(209, 80, 0, 255),3)\n",
    "        input_original= input_im.copy()\n",
    "    else:   \n",
    "        x1  = face_cor[0][0]\n",
    "        y1 = face_cor[0][1]\n",
    "        x2 = x1 + face_cor[0][2]\n",
    "        y2 = y1 + face_cor[0][3]\n",
    "        input_original = input_im.copy()\n",
    "        input_im = input_im[y1:y2,x1:x2]\n",
    "    #input_im = getRandomImage(\"./Face-Mask-Detection/dataset/\")\n",
    "    \n",
    "    input_original = cv2.resize(input_original, None, fx=0.5, fy=0.5, interpolation = cv2.INTER_LINEAR)\n",
    "    input_im = cv2.resize(input_im, (224, 224), interpolation = cv2.INTER_LINEAR)\n",
    "    input_im = input_im / 255.\n",
    "    input_im = input_im.reshape(1,224,224,3) \n",
    "    res = np.argmax(classifier.predict(input_im, 1, verbose = 0), axis=1) \n",
    "    input_im = cv2.rectangle(input_im , (x1,  y1) , (x2, y2), [0,255,0], 3)\n",
    "    draw_test(\"Prediction\", res, input_original) \n",
    "    #cv2.imshow('hi',input_im) \n",
    "    if cv2.waitKey(1)==13:\n",
    "        break\n",
    "cv2.destroyAllWindows()"
   ]
  },
  {
   "cell_type": "code",
   "execution_count": null,
   "metadata": {},
   "outputs": [],
   "source": [
    "cap.release()"
   ]
  }
 ],
 "metadata": {
  "kernelspec": {
   "display_name": "Python 3",
   "language": "python",
   "name": "python3"
  },
  "language_info": {
   "codemirror_mode": {
    "name": "ipython",
    "version": 3
   },
   "file_extension": ".py",
   "mimetype": "text/x-python",
   "name": "python",
   "nbconvert_exporter": "python",
   "pygments_lexer": "ipython3",
   "version": "3.7.6"
  }
 },
 "nbformat": 4,
 "nbformat_minor": 4
}
